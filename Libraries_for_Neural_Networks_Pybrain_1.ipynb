{
  "nbformat": 4,
  "nbformat_minor": 0,
  "metadata": {
    "colab": {
      "provenance": [],
      "include_colab_link": true
    },
    "kernelspec": {
      "name": "python3",
      "display_name": "Python 3"
    }
  },
  "cells": [
    {
      "cell_type": "markdown",
      "metadata": {
        "id": "view-in-github",
        "colab_type": "text"
      },
      "source": [
        "<a href=\"https://colab.research.google.com/github/kaybrian/Tensorflow_self_study/blob/main/Libraries_for_Neural_Networks_Pybrain_1.ipynb\" target=\"_parent\"><img src=\"https://colab.research.google.com/assets/colab-badge.svg\" alt=\"Open In Colab\"/></a>"
      ]
    },
    {
      "cell_type": "markdown",
      "metadata": {
        "id": "ZjL4mldO_t43"
      },
      "source": [
        "# Libraries for Neural Networks - Pybrain 1"
      ]
    },
    {
      "cell_type": "code",
      "metadata": {
        "id": "XFg0-w7mawGW",
        "outputId": "d29db8c3-acaa-463d-a1fa-7676ec68f6e3",
        "colab": {
          "base_uri": "https://localhost:8080/"
        }
      },
      "source": [
        "!pip install https://github.com/pybrain/pybrain/archive/0.3.3.zip"
      ],
      "execution_count": 1,
      "outputs": [
        {
          "output_type": "stream",
          "name": "stdout",
          "text": [
            "Collecting https://github.com/pybrain/pybrain/archive/0.3.3.zip\n",
            "  Downloading https://github.com/pybrain/pybrain/archive/0.3.3.zip\n",
            "\u001b[2K     \u001b[32m|\u001b[0m \u001b[32m1.5 MB\u001b[0m \u001b[31m16.2 MB/s\u001b[0m \u001b[33m0:00:00\u001b[0m\n",
            "\u001b[?25h  Preparing metadata (setup.py) ... \u001b[?25l\u001b[?25hdone\n",
            "Requirement already satisfied: scipy in /usr/local/lib/python3.10/dist-packages (from PyBrain==0.3.1) (1.11.4)\n",
            "Requirement already satisfied: numpy<1.28.0,>=1.21.6 in /usr/local/lib/python3.10/dist-packages (from scipy->PyBrain==0.3.1) (1.25.2)\n",
            "Building wheels for collected packages: PyBrain\n",
            "  Building wheel for PyBrain (setup.py) ... \u001b[?25l\u001b[?25hdone\n",
            "  Created wheel for PyBrain: filename=PyBrain-0.3.1-py3-none-any.whl size=468213 sha256=cbb445a02775acc7c727b4c06de76902afacb03398fc5b675a575916b259e9a9\n",
            "  Stored in directory: /tmp/pip-ephem-wheel-cache-v0tyqyub/wheels/50/cd/29/81b7d6044645ee5f1cf2ba52a86892abd3d9a536c7b1c3e7db\n",
            "Successfully built PyBrain\n",
            "Installing collected packages: PyBrain\n",
            "Successfully installed PyBrain-0.3.1\n"
          ]
        }
      ]
    },
    {
      "cell_type": "code",
      "source": [
        "import pybrain"
      ],
      "metadata": {
        "id": "XLZ-RTvOTcwj"
      },
      "execution_count": null,
      "outputs": []
    },
    {
      "cell_type": "code",
      "metadata": {
        "id": "NbZWFjNUbXv4"
      },
      "source": [
        "from pybrain.structure import FeedForwardNetwork\n",
        "from pybrain.structure import SigmoidLayer, LinearLayer, BiasUnit\n",
        "from pybrain.structure import FullConnection"
      ],
      "execution_count": null,
      "outputs": []
    },
    {
      "cell_type": "code",
      "metadata": {
        "id": "VUZRypPkcW_V"
      },
      "source": [
        "network = FeedForwardNetwork()"
      ],
      "execution_count": null,
      "outputs": []
    },
    {
      "cell_type": "code",
      "metadata": {
        "id": "HznqHcrscmsL"
      },
      "source": [
        "input_layer = LinearLayer(2)\n",
        "hidden_layer = SigmoidLayer(3)\n",
        "output_layer = SigmoidLayer(1)\n",
        "bias0 = BiasUnit()\n",
        "bias1 = BiasUnit()"
      ],
      "execution_count": null,
      "outputs": []
    },
    {
      "cell_type": "code",
      "metadata": {
        "id": "4YjmIeSRdW3M"
      },
      "source": [
        "network.addModule(input_layer)\n",
        "network.addModule(hidden_layer)\n",
        "network.addModule(output_layer)\n",
        "network.addModule(bias0)\n",
        "network.addModule(bias1)"
      ],
      "execution_count": null,
      "outputs": []
    },
    {
      "cell_type": "code",
      "metadata": {
        "id": "TNShu4KudzVU"
      },
      "source": [
        "input_to_hidden = FullConnection(input_layer, hidden_layer)\n",
        "hidden_to_output = FullConnection(hidden_layer, output_layer)\n",
        "bias_hidden = FullConnection(bias0, hidden_layer)\n",
        "bias_output = FullConnection(bias1, output_layer)"
      ],
      "execution_count": null,
      "outputs": []
    },
    {
      "cell_type": "code",
      "metadata": {
        "id": "bm6Iw-bxeLlP"
      },
      "source": [
        "network.sortModules()"
      ],
      "execution_count": null,
      "outputs": []
    },
    {
      "cell_type": "code",
      "metadata": {
        "id": "YhayaWeuebJ1",
        "outputId": "6aab985b-6b88-40b7-82d3-57668370c3a1",
        "colab": {
          "base_uri": "https://localhost:8080/",
          "height": 138
        }
      },
      "source": [
        "print(network)"
      ],
      "execution_count": null,
      "outputs": [
        {
          "output_type": "stream",
          "text": [
            "FeedForwardNetwork-10\n",
            "   Modules:\n",
            "    [<BiasUnit 'BiasUnit-6'>, <BiasUnit 'BiasUnit-7'>, <LinearLayer 'LinearLayer-9'>, <SigmoidLayer 'SigmoidLayer-5'>, <SigmoidLayer 'SigmoidLayer-8'>]\n",
            "   Connections:\n",
            "    []\n",
            "\n"
          ],
          "name": "stdout"
        }
      ]
    },
    {
      "cell_type": "code",
      "metadata": {
        "id": "E56yqvNbemLz",
        "outputId": "2569072f-b159-4caf-f5a6-da75efd875b3",
        "colab": {
          "base_uri": "https://localhost:8080/",
          "height": 34
        }
      },
      "source": [
        "print(input_to_hidden.params)"
      ],
      "execution_count": null,
      "outputs": [
        {
          "output_type": "stream",
          "text": [
            "[ 1.33207118  1.88303013  0.1368466  -0.85197954 -2.40841766 -0.19717989]\n"
          ],
          "name": "stdout"
        }
      ]
    },
    {
      "cell_type": "code",
      "metadata": {
        "id": "OAOwCLPnex6v",
        "outputId": "cf87b59a-dcba-4428-c74c-a88d2d27b2b0",
        "colab": {
          "base_uri": "https://localhost:8080/",
          "height": 34
        }
      },
      "source": [
        "print(hidden_to_output.params)"
      ],
      "execution_count": null,
      "outputs": [
        {
          "output_type": "stream",
          "text": [
            "[ 0.66270824 -0.50743935 -3.40495917]\n"
          ],
          "name": "stdout"
        }
      ]
    },
    {
      "cell_type": "code",
      "metadata": {
        "id": "WQjsPaQ8e7E5",
        "outputId": "bdedecfc-671d-4a09-e10f-8637fa9556fa",
        "colab": {
          "base_uri": "https://localhost:8080/",
          "height": 34
        }
      },
      "source": [
        "print(bias_hidden.params)"
      ],
      "execution_count": null,
      "outputs": [
        {
          "output_type": "stream",
          "text": [
            "[-1.16533243  0.59422771 -0.7946233 ]\n"
          ],
          "name": "stdout"
        }
      ]
    },
    {
      "cell_type": "code",
      "metadata": {
        "id": "Dsk-MJB5fDwG",
        "outputId": "4dd0de90-862f-4520-abab-b28233cde7f2",
        "colab": {
          "base_uri": "https://localhost:8080/",
          "height": 34
        }
      },
      "source": [
        "print(bias_output.params)"
      ],
      "execution_count": null,
      "outputs": [
        {
          "output_type": "stream",
          "text": [
            "[1.99627754]\n"
          ],
          "name": "stdout"
        }
      ]
    }
  ]
}