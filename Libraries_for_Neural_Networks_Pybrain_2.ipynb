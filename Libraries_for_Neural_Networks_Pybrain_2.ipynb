{
  "nbformat": 4,
  "nbformat_minor": 0,
  "metadata": {
    "colab": {
      "provenance": [],
      "include_colab_link": true
    },
    "kernelspec": {
      "name": "python3",
      "display_name": "Python 3"
    }
  },
  "cells": [
    {
      "cell_type": "markdown",
      "metadata": {
        "id": "view-in-github",
        "colab_type": "text"
      },
      "source": [
        "<a href=\"https://colab.research.google.com/github/kaybrian/Tensorflow_self_study/blob/main/Libraries_for_Neural_Networks_Pybrain_2.ipynb\" target=\"_parent\"><img src=\"https://colab.research.google.com/assets/colab-badge.svg\" alt=\"Open In Colab\"/></a>"
      ]
    },
    {
      "cell_type": "markdown",
      "metadata": {
        "id": "ZjL4mldO_t43"
      },
      "source": [
        "# Libraries for Neural Networks - Pybrain 2"
      ]
    },
    {
      "cell_type": "code",
      "metadata": {
        "id": "QggR_r8VWku0",
        "colab": {
          "base_uri": "https://localhost:8080/",
          "height": 238
        },
        "outputId": "a8ec32f6-ff3e-410d-a2af-af372e525a08"
      },
      "source": [
        "!pip install https://github.com/pybrain/pybrain/archive/0.3.3.zip"
      ],
      "execution_count": null,
      "outputs": [
        {
          "output_type": "stream",
          "text": [
            "Collecting https://github.com/pybrain/pybrain/archive/0.3.3.zip\n",
            "\u001b[?25l  Downloading https://github.com/pybrain/pybrain/archive/0.3.3.zip\n",
            "\u001b[K     \\ 6.5MB 4.0MB/s\n",
            "\u001b[?25hRequirement already satisfied: scipy in /usr/local/lib/python3.6/dist-packages (from PyBrain==0.3.1) (1.4.1)\n",
            "Requirement already satisfied: numpy>=1.13.3 in /usr/local/lib/python3.6/dist-packages (from scipy->PyBrain==0.3.1) (1.18.4)\n",
            "Building wheels for collected packages: PyBrain\n",
            "  Building wheel for PyBrain (setup.py) ... \u001b[?25l\u001b[?25hdone\n",
            "  Created wheel for PyBrain: filename=PyBrain-0.3.1-cp36-none-any.whl size=468232 sha256=988b424475a7b96d372da9fad36ede91a18d6805612e3b1a1721fedeb4dc11b8\n",
            "  Stored in directory: /tmp/pip-ephem-wheel-cache-sb5rk7m8/wheels/0b/04/38/2f174aa3c578350870947ca6ab12e0eb89aef3478c9610eb0a\n",
            "Successfully built PyBrain\n",
            "Installing collected packages: PyBrain\n",
            "Successfully installed PyBrain-0.3.1\n"
          ],
          "name": "stdout"
        }
      ]
    },
    {
      "cell_type": "code",
      "metadata": {
        "id": "isKu26S0BsSK"
      },
      "source": [
        "import pybrain"
      ],
      "execution_count": null,
      "outputs": []
    },
    {
      "cell_type": "code",
      "metadata": {
        "id": "dsPx32vBgHZi"
      },
      "source": [
        "from pybrain.tools.shortcuts import buildNetwork\n",
        "from pybrain.datasets import SupervisedDataSet\n",
        "from pybrain.supervised import BackpropTrainer\n",
        "from pybrain.structure.modules import SigmoidLayer"
      ],
      "execution_count": null,
      "outputs": []
    },
    {
      "cell_type": "code",
      "metadata": {
        "id": "vLeQDaZNg1IJ"
      },
      "source": [
        "network = buildNetwork(2, 3, 1, outclass = SigmoidLayer, hiddenclass = SigmoidLayer, bias = False)"
      ],
      "execution_count": null,
      "outputs": []
    },
    {
      "cell_type": "code",
      "metadata": {
        "id": "30JNdjDihH60",
        "colab": {
          "base_uri": "https://localhost:8080/",
          "height": 34
        },
        "outputId": "872ea01f-48be-4325-a22a-b9b519836d5d"
      },
      "source": [
        "network"
      ],
      "execution_count": null,
      "outputs": [
        {
          "output_type": "execute_result",
          "data": {
            "text/plain": [
              "<FeedForwardNetwork 'FeedForwardNetwork-8'>"
            ]
          },
          "metadata": {
            "tags": []
          },
          "execution_count": 7
        }
      ]
    },
    {
      "cell_type": "code",
      "metadata": {
        "id": "q3OYu-qehT50",
        "colab": {
          "base_uri": "https://localhost:8080/",
          "height": 34
        },
        "outputId": "374b7d35-c4ed-48ff-b1a2-26b41c3fb2ca"
      },
      "source": [
        "network['in']"
      ],
      "execution_count": null,
      "outputs": [
        {
          "output_type": "execute_result",
          "data": {
            "text/plain": [
              "<LinearLayer 'in'>"
            ]
          },
          "metadata": {
            "tags": []
          },
          "execution_count": 8
        }
      ]
    },
    {
      "cell_type": "code",
      "metadata": {
        "id": "NE12WNP5hehk",
        "colab": {
          "base_uri": "https://localhost:8080/",
          "height": 34
        },
        "outputId": "a5710a91-4600-4808-d832-efba317f868d"
      },
      "source": [
        "network['hidden0']"
      ],
      "execution_count": null,
      "outputs": [
        {
          "output_type": "execute_result",
          "data": {
            "text/plain": [
              "<SigmoidLayer 'hidden0'>"
            ]
          },
          "metadata": {
            "tags": []
          },
          "execution_count": 11
        }
      ]
    },
    {
      "cell_type": "code",
      "metadata": {
        "id": "dVwp23G1hojZ",
        "colab": {
          "base_uri": "https://localhost:8080/",
          "height": 34
        },
        "outputId": "bad5f269-a8b1-4cb0-a832-1483e1edb27c"
      },
      "source": [
        "network['out']"
      ],
      "execution_count": null,
      "outputs": [
        {
          "output_type": "execute_result",
          "data": {
            "text/plain": [
              "<SigmoidLayer 'out'>"
            ]
          },
          "metadata": {
            "tags": []
          },
          "execution_count": 15
        }
      ]
    },
    {
      "cell_type": "code",
      "metadata": {
        "id": "pNhkxlQ7hxf1"
      },
      "source": [
        "network['bias']"
      ],
      "execution_count": null,
      "outputs": []
    },
    {
      "cell_type": "code",
      "metadata": {
        "id": "flIl95maidTS"
      },
      "source": [
        "dataset = SupervisedDataSet(2, 1)\n",
        "dataset.addSample((0,0), (0,))\n",
        "dataset.addSample((0,1), (1,))\n",
        "dataset.addSample((1,0), (1,))\n",
        "dataset.addSample((1,1), (0,))"
      ],
      "execution_count": null,
      "outputs": []
    },
    {
      "cell_type": "code",
      "metadata": {
        "id": "buI96ok3i6BX",
        "colab": {
          "base_uri": "https://localhost:8080/",
          "height": 84
        },
        "outputId": "3cc0b83b-7d87-4137-a9f5-ea54b49621f2"
      },
      "source": [
        "dataset['input']"
      ],
      "execution_count": null,
      "outputs": [
        {
          "output_type": "execute_result",
          "data": {
            "text/plain": [
              "array([[0., 0.],\n",
              "       [0., 1.],\n",
              "       [1., 0.],\n",
              "       [1., 1.]])"
            ]
          },
          "metadata": {
            "tags": []
          },
          "execution_count": 20
        }
      ]
    },
    {
      "cell_type": "code",
      "metadata": {
        "id": "NwK36y6Ai9Cs",
        "colab": {
          "base_uri": "https://localhost:8080/",
          "height": 84
        },
        "outputId": "2d78a30d-360b-4dd1-ce60-281597c967ac"
      },
      "source": [
        "dataset['target']"
      ],
      "execution_count": null,
      "outputs": [
        {
          "output_type": "execute_result",
          "data": {
            "text/plain": [
              "array([[0.],\n",
              "       [1.],\n",
              "       [1.],\n",
              "       [0.]])"
            ]
          },
          "metadata": {
            "tags": []
          },
          "execution_count": 21
        }
      ]
    },
    {
      "cell_type": "code",
      "metadata": {
        "id": "NSWR6iOEjA2z"
      },
      "source": [
        "optimizer = BackpropTrainer(module=network, dataset=dataset, learningrate=0.5)"
      ],
      "execution_count": null,
      "outputs": []
    },
    {
      "cell_type": "code",
      "metadata": {
        "id": "WhlJpCCbjMfK",
        "colab": {
          "base_uri": "https://localhost:8080/",
          "height": 521
        },
        "outputId": "8566f04e-db57-48d1-b55a-51640493fba8"
      },
      "source": [
        "epochs = 30000\n",
        "error = []\n",
        "for epoch in range(epochs):\n",
        "  error_average = optimizer.train()\n",
        "  if epoch % 1000 == 0:\n",
        "    print('Epoch: ' + str(epoch + 1) + ' Error: ' + str(error_average))\n",
        "    error.append(error_average)"
      ],
      "execution_count": null,
      "outputs": [
        {
          "output_type": "stream",
          "text": [
            "Epoch: 1 Error: 0.06668661184965809\n",
            "Epoch: 1001 Error: 0.06669023514753844\n",
            "Epoch: 2001 Error: 0.0666731772860656\n",
            "Epoch: 3001 Error: 0.06666784749155985\n",
            "Epoch: 4001 Error: 0.06665545451434077\n",
            "Epoch: 5001 Error: 0.0666507400006464\n",
            "Epoch: 6001 Error: 0.06664437226437642\n",
            "Epoch: 7001 Error: 0.06664266160242513\n",
            "Epoch: 8001 Error: 0.06663712608900237\n",
            "Epoch: 9001 Error: 0.06663126979546966\n",
            "Epoch: 10001 Error: 0.06663329093004937\n",
            "Epoch: 11001 Error: 0.06662239568997567\n",
            "Epoch: 12001 Error: 0.06662869582007004\n",
            "Epoch: 13001 Error: 0.06662036831741402\n",
            "Epoch: 14001 Error: 0.06661604874354891\n",
            "Epoch: 15001 Error: 0.066609402772548\n",
            "Epoch: 16001 Error: 0.06660761123354142\n",
            "Epoch: 17001 Error: 0.06660588705919038\n",
            "Epoch: 18001 Error: 0.0666021806089894\n",
            "Epoch: 19001 Error: 0.06660150280023854\n",
            "Epoch: 20001 Error: 0.06659814047392755\n",
            "Epoch: 21001 Error: 0.06659654085294815\n",
            "Epoch: 22001 Error: 0.06659703750274448\n",
            "Epoch: 23001 Error: 0.06660136262027974\n",
            "Epoch: 24001 Error: 0.06661077297706489\n",
            "Epoch: 25001 Error: 0.06659943704900545\n",
            "Epoch: 26001 Error: 0.0665869811520352\n",
            "Epoch: 27001 Error: 0.06658540948543104\n",
            "Epoch: 28001 Error: 0.06658438390165801\n",
            "Epoch: 29001 Error: 0.06659455903086467\n"
          ],
          "name": "stdout"
        }
      ]
    },
    {
      "cell_type": "code",
      "metadata": {
        "id": "wWs0NoIXju6a",
        "colab": {
          "base_uri": "https://localhost:8080/",
          "height": 296
        },
        "outputId": "9f3633bb-746d-4893-f13d-90f4a46fcfaa"
      },
      "source": [
        "import matplotlib.pyplot as plt\n",
        "plt.xlabel('Epoch')\n",
        "plt.ylabel('Error')\n",
        "plt.plot(error)"
      ],
      "execution_count": null,
      "outputs": [
        {
          "output_type": "execute_result",
          "data": {
            "text/plain": [
              "[<matplotlib.lines.Line2D at 0x7f568f628cc0>]"
            ]
          },
          "metadata": {
            "tags": []
          },
          "execution_count": 24
        },
        {
          "output_type": "display_data",
          "data": {
            "image/png": "[encoded data removed]",
            "text/plain": [
              "<Figure size 432x288 with 1 Axes>"
            ]
          },
          "metadata": {
            "tags": [],
            "needs_background": "light"
          }
        }
      ]
    },
    {
      "cell_type": "code",
      "metadata": {
        "id": "2lAztDBOj-uY",
        "colab": {
          "base_uri": "https://localhost:8080/",
          "height": 50
        },
        "outputId": "79993adf-4062-4f73-e128-ffb1cc869e1c"
      },
      "source": [
        "network.params"
      ],
      "execution_count": null,
      "outputs": [
        {
          "output_type": "execute_result",
          "data": {
            "text/plain": [
              "array([-6.31138407, -3.1615783 ,  6.21928154, -0.71029957,  6.38630972,\n",
              "        3.94120457, -5.61594203, -4.85749822,  4.85361949])"
            ]
          },
          "metadata": {
            "tags": []
          },
          "execution_count": 25
        }
      ]
    },
    {
      "cell_type": "code",
      "metadata": {
        "id": "XYuPPC5ckPlS",
        "colab": {
          "base_uri": "https://localhost:8080/",
          "height": 34
        },
        "outputId": "90dd5fff-c06e-4bc5-c26b-8010a3b536df"
      },
      "source": [
        "network.activate([0,0])"
      ],
      "execution_count": null,
      "outputs": [
        {
          "output_type": "execute_result",
          "data": {
            "text/plain": [
              "array([0.05679098])"
            ]
          },
          "metadata": {
            "tags": []
          },
          "execution_count": 26
        }
      ]
    },
    {
      "cell_type": "code",
      "metadata": {
        "id": "aWWui9LqkYla",
        "colab": {
          "base_uri": "https://localhost:8080/",
          "height": 34
        },
        "outputId": "ec9501a0-eb9b-4194-f734-56cddd48227c"
      },
      "source": [
        "network.activate([0,1])"
      ],
      "execution_count": null,
      "outputs": [
        {
          "output_type": "execute_result",
          "data": {
            "text/plain": [
              "array([0.94941608])"
            ]
          },
          "metadata": {
            "tags": []
          },
          "execution_count": 27
        }
      ]
    },
    {
      "cell_type": "code",
      "metadata": {
        "id": "iEoFyaLnkbVC",
        "colab": {
          "base_uri": "https://localhost:8080/",
          "height": 34
        },
        "outputId": "82cec4f2-1398-4efb-c775-dc02f79a102b"
      },
      "source": [
        "network.activate([1,0])"
      ],
      "execution_count": null,
      "outputs": [
        {
          "output_type": "execute_result",
          "data": {
            "text/plain": [
              "array([0.49685814])"
            ]
          },
          "metadata": {
            "tags": []
          },
          "execution_count": 28
        }
      ]
    },
    {
      "cell_type": "code",
      "metadata": {
        "id": "W-ZAV2Y9kgQw",
        "colab": {
          "base_uri": "https://localhost:8080/",
          "height": 34
        },
        "outputId": "87aaca14-dc22-4e5a-ce44-75d76297ed5f"
      },
      "source": [
        "network.activate([1,1])"
      ],
      "execution_count": null,
      "outputs": [
        {
          "output_type": "execute_result",
          "data": {
            "text/plain": [
              "array([0.50378123])"
            ]
          },
          "metadata": {
            "tags": []
          },
          "execution_count": 29
        }
      ]
    }
  ]
}