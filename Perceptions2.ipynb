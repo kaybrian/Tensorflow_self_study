{
  "nbformat": 4,
  "nbformat_minor": 0,
  "metadata": {
    "colab": {
      "provenance": [],
      "authorship_tag": "ABX9TyNYVxq9wAm2pE6NN1IbTEPe",
      "include_colab_link": true
    },
    "kernelspec": {
      "name": "python3",
      "display_name": "Python 3"
    },
    "language_info": {
      "name": "python"
    }
  },
  "cells": [
    {
      "cell_type": "markdown",
      "metadata": {
        "id": "view-in-github",
        "colab_type": "text"
      },
      "source": [
        "<a href=\"https://colab.research.google.com/github/kaybrian/Tensorflow_self_study/blob/main/Perceptions2.ipynb\" target=\"_parent\"><img src=\"https://colab.research.google.com/assets/colab-badge.svg\" alt=\"Open In Colab\"/></a>"
      ]
    },
    {
      "cell_type": "markdown",
      "source": [
        "A simple program to make a python preceptor in NNs, using Numpy in python\n",
        "\n"
      ],
      "metadata": {
        "id": "_D5zImYrWM49"
      }
    },
    {
      "cell_type": "code",
      "source": [
        "import numpy as np\n"
      ],
      "metadata": {
        "id": "jmmRtsmiWvQM"
      },
      "execution_count": 16,
      "outputs": []
    },
    {
      "cell_type": "code",
      "execution_count": 17,
      "metadata": {
        "id": "xLgvugMkPc9M"
      },
      "outputs": [],
      "source": [
        "inputs = np.array([35, 25])"
      ]
    },
    {
      "cell_type": "code",
      "source": [
        "weights = np.array([0.8, 0.1])"
      ],
      "metadata": {
        "id": "8NJD-CTmP6P9"
      },
      "execution_count": 18,
      "outputs": []
    },
    {
      "cell_type": "code",
      "source": [
        "def sum(inputs, weights):\n",
        "  return inputs.dot(weights)"
      ],
      "metadata": {
        "id": "wggAK0XtQcgN"
      },
      "execution_count": 19,
      "outputs": []
    },
    {
      "cell_type": "code",
      "source": [
        "s = sum(inputs, weights)"
      ],
      "metadata": {
        "id": "X3WRJEtoVKA2"
      },
      "execution_count": 20,
      "outputs": []
    },
    {
      "cell_type": "code",
      "source": [
        "# step functions\n",
        "\n",
        "def step_function(sum):\n",
        "  if sum >= 1:\n",
        "    return 1\n",
        "  return 0\n"
      ],
      "metadata": {
        "id": "yL90f8VAVNKc"
      },
      "execution_count": 21,
      "outputs": []
    },
    {
      "cell_type": "code",
      "source": [
        "# creating the perceptor\n",
        "step_function(s)"
      ],
      "metadata": {
        "colab": {
          "base_uri": "https://localhost:8080/"
        },
        "id": "e07fhwGIVOP8",
        "outputId": "20e40cdf-b31a-402b-da3a-3d07e2aa1026"
      },
      "execution_count": 22,
      "outputs": [
        {
          "output_type": "execute_result",
          "data": {
            "text/plain": [
              "1"
            ]
          },
          "metadata": {},
          "execution_count": 22
        }
      ]
    },
    {
      "cell_type": "code",
      "source": [
        "# Note, by making my lists into array lists, the job to make sure that our work just runs so fast thab before"
      ],
      "metadata": {
        "id": "f0rJXd6NWKBc"
      },
      "execution_count": 23,
      "outputs": []
    },
    {
      "cell_type": "code",
      "source": [],
      "metadata": {
        "id": "DkCci1yAXPUk"
      },
      "execution_count": null,
      "outputs": []
    }
  ]
}