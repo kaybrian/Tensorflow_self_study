{
  "nbformat": 4,
  "nbformat_minor": 0,
  "metadata": {
    "colab": {
      "provenance": [],
      "authorship_tag": "ABX9TyPHs2HwcIyH4a5GQSZmb7St",
      "include_colab_link": true
    },
    "kernelspec": {
      "name": "python3",
      "display_name": "Python 3"
    },
    "language_info": {
      "name": "python"
    }
  },
  "cells": [
    {
      "cell_type": "markdown",
      "metadata": {
        "id": "view-in-github",
        "colab_type": "text"
      },
      "source": [
        "<a href=\"https://colab.research.google.com/github/kaybrian/Tensorflow_self_study/blob/main/perception4.ipynb\" target=\"_parent\"><img src=\"https://colab.research.google.com/assets/colab-badge.svg\" alt=\"Open In Colab\"/></a>"
      ]
    },
    {
      "cell_type": "code",
      "execution_count": 21,
      "metadata": {
        "id": "WDholriRU4qu"
      },
      "outputs": [],
      "source": [
        "import numpy as np"
      ]
    },
    {
      "cell_type": "code",
      "source": [
        "inputs = np.array([[0,0], [0,1], [1,0], [1,1]])"
      ],
      "metadata": {
        "id": "HL0dzkNzV6ha"
      },
      "execution_count": 22,
      "outputs": []
    },
    {
      "cell_type": "code",
      "source": [
        "inputs.shape\n"
      ],
      "metadata": {
        "colab": {
          "base_uri": "https://localhost:8080/"
        },
        "id": "sBWbg5ieWDxZ",
        "outputId": "c7c9934b-e462-40db-d126-ea02f6e8dc78"
      },
      "execution_count": 23,
      "outputs": [
        {
          "output_type": "execute_result",
          "data": {
            "text/plain": [
              "(4, 2)"
            ]
          },
          "metadata": {},
          "execution_count": 23
        }
      ]
    },
    {
      "cell_type": "code",
      "source": [
        "outputs = np.array([0,0,0,1])"
      ],
      "metadata": {
        "id": "8-60NtWgWH_D"
      },
      "execution_count": 34,
      "outputs": []
    },
    {
      "cell_type": "code",
      "source": [
        "outputs.shape"
      ],
      "metadata": {
        "colab": {
          "base_uri": "https://localhost:8080/"
        },
        "id": "yFHwzmMVWR-v",
        "outputId": "fbdc2767-5f2c-4704-e23f-1aa6bbe3865a"
      },
      "execution_count": 25,
      "outputs": [
        {
          "output_type": "execute_result",
          "data": {
            "text/plain": [
              "(4,)"
            ]
          },
          "metadata": {},
          "execution_count": 25
        }
      ]
    },
    {
      "cell_type": "code",
      "source": [
        "weights = np.array([0.0, 0.0])"
      ],
      "metadata": {
        "id": "fZffT65TWT9p"
      },
      "execution_count": 35,
      "outputs": []
    },
    {
      "cell_type": "code",
      "source": [
        "learning_rate = 0.1"
      ],
      "metadata": {
        "id": "hnWVTMwvWdnU"
      },
      "execution_count": 27,
      "outputs": []
    },
    {
      "cell_type": "code",
      "source": [
        "# creation of the step funtions\n",
        "def step_function(sum):\n",
        "  if sum >= 1:\n",
        "    return 1\n",
        "  return 0"
      ],
      "metadata": {
        "id": "gCf0CbwOWf9D"
      },
      "execution_count": 28,
      "outputs": []
    },
    {
      "cell_type": "code",
      "source": [
        "# calcuate the output\n",
        "def calculate_output(instance):\n",
        "  s = instance.dot(weights)\n",
        "  return step_function(s)\n",
        ""
      ],
      "metadata": {
        "id": "iwdybbMcWqyu"
      },
      "execution_count": 29,
      "outputs": []
    },
    {
      "cell_type": "code",
      "source": [
        "# make a simple test\n",
        "calculate_output(np.array([[1,1]]))"
      ],
      "metadata": {
        "colab": {
          "base_uri": "https://localhost:8080/"
        },
        "id": "GQWIUnvKW-gy",
        "outputId": "92af0fd6-35f5-449f-941a-048e35f63a43"
      },
      "execution_count": 39,
      "outputs": [
        {
          "output_type": "execute_result",
          "data": {
            "text/plain": [
              "1"
            ]
          },
          "metadata": {},
          "execution_count": 39
        }
      ]
    },
    {
      "cell_type": "code",
      "source": [
        "# train the model\n",
        "def train():\n",
        "  total_error = 1\n",
        "  while (total_error != 0):\n",
        "    total_error = 0\n",
        "    for i in range(len(outputs)):\n",
        "      predication = calculate_output(inputs[i])\n",
        "      error = abs(outputs[i] - predication)\n",
        "      total_error += error\n",
        "      if error > 0:\n",
        "        for j in range(len(weights)):\n",
        "          weights[j] = weights[j] + (learning_rate * inputs[i][j] * error)\n",
        "          print(f\"Updated the weights to {weights[j]}\")\n",
        "    print(f'Total Error {total_error}')\n",
        "\n",
        ""
      ],
      "metadata": {
        "id": "F_7lcImlXFuY"
      },
      "execution_count": 36,
      "outputs": []
    },
    {
      "cell_type": "code",
      "source": [
        "# make sure to train the model\n",
        "train()"
      ],
      "metadata": {
        "colab": {
          "base_uri": "https://localhost:8080/"
        },
        "id": "6Yth36hXY5Vw",
        "outputId": "881ba6f4-271a-4009-8ab6-06cd702228c5"
      },
      "execution_count": 37,
      "outputs": [
        {
          "output_type": "stream",
          "name": "stdout",
          "text": [
            "Updated the weights to 0.1\n",
            "Updated the weights to 0.1\n",
            "Total Error 1\n",
            "Updated the weights to 0.2\n",
            "Updated the weights to 0.2\n",
            "Total Error 1\n",
            "Updated the weights to 0.30000000000000004\n",
            "Updated the weights to 0.30000000000000004\n",
            "Total Error 1\n",
            "Updated the weights to 0.4\n",
            "Updated the weights to 0.4\n",
            "Total Error 1\n",
            "Updated the weights to 0.5\n",
            "Updated the weights to 0.5\n",
            "Total Error 1\n",
            "Total Error 0\n"
          ]
        }
      ]
    },
    {
      "cell_type": "code",
      "source": [
        "weights"
      ],
      "metadata": {
        "colab": {
          "base_uri": "https://localhost:8080/"
        },
        "id": "W5-BDbOuY9Ou",
        "outputId": "b535b77f-d539-4d54-f45c-83b1a640c0d8"
      },
      "execution_count": 38,
      "outputs": [
        {
          "output_type": "execute_result",
          "data": {
            "text/plain": [
              "array([0.5, 0.5])"
            ]
          },
          "metadata": {},
          "execution_count": 38
        }
      ]
    },
    {
      "cell_type": "code",
      "source": [
        "calculate_output(np.array([[0,1]]))"
      ],
      "metadata": {
        "colab": {
          "base_uri": "https://localhost:8080/"
        },
        "id": "Zho2K55hZhwe",
        "outputId": "88361ba6-db54-4a40-a6ff-f65ee98d0c5f"
      },
      "execution_count": 40,
      "outputs": [
        {
          "output_type": "execute_result",
          "data": {
            "text/plain": [
              "0"
            ]
          },
          "metadata": {},
          "execution_count": 40
        }
      ]
    },
    {
      "cell_type": "code",
      "source": [
        "calculate_output(np.array([[1,0]]))"
      ],
      "metadata": {
        "colab": {
          "base_uri": "https://localhost:8080/"
        },
        "id": "uXOCT57NZug0",
        "outputId": "8fefb824-a3a3-4290-a8a8-d7daa5c7470e"
      },
      "execution_count": 41,
      "outputs": [
        {
          "output_type": "execute_result",
          "data": {
            "text/plain": [
              "0"
            ]
          },
          "metadata": {},
          "execution_count": 41
        }
      ]
    },
    {
      "cell_type": "code",
      "source": [
        "calculate_output(np.array([[1,1]]))"
      ],
      "metadata": {
        "colab": {
          "base_uri": "https://localhost:8080/"
        },
        "id": "BxRd90PPZvzF",
        "outputId": "4c506bc3-d459-46b2-9a0d-a5ce8c1c8cfd"
      },
      "execution_count": 42,
      "outputs": [
        {
          "output_type": "execute_result",
          "data": {
            "text/plain": [
              "1"
            ]
          },
          "metadata": {},
          "execution_count": 42
        }
      ]
    },
    {
      "cell_type": "code",
      "source": [],
      "metadata": {
        "id": "cGuUgZbNZwp7"
      },
      "execution_count": null,
      "outputs": []
    }
  ]
}