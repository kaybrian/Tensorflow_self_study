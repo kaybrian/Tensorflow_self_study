{
  "nbformat": 4,
  "nbformat_minor": 0,
  "metadata": {
    "colab": {
      "provenance": [],
      "authorship_tag": "ABX9TyPWjxe2DNJW6X5SkTdYyfNo",
      "include_colab_link": true
    },
    "kernelspec": {
      "name": "python3",
      "display_name": "Python 3"
    },
    "language_info": {
      "name": "python"
    }
  },
  "cells": [
    {
      "cell_type": "markdown",
      "metadata": {
        "id": "view-in-github",
        "colab_type": "text"
      },
      "source": [
        "<a href=\"https://colab.research.google.com/github/kaybrian/Tensorflow_self_study/blob/main/simple_linear_model.ipynb\" target=\"_parent\"><img src=\"https://colab.research.google.com/assets/colab-badge.svg\" alt=\"Open In Colab\"/></a>"
      ]
    },
    {
      "cell_type": "code",
      "source": [
        "#  define the data you need to  train from\n",
        "data = {\n",
        "    'size': [650, 785, 1200, 1400, 1800],\n",
        "    'price': [77250, 92850, 150000, 178000, 215000]\n",
        "}\n"
      ],
      "metadata": {
        "id": "gKNrOp0xVLMP"
      },
      "execution_count": 1,
      "outputs": []
    },
    {
      "cell_type": "code",
      "execution_count": 2,
      "metadata": {
        "id": "q27Dks2bVGkX"
      },
      "outputs": [],
      "source": [
        "\n",
        "# Build a function to scale the data\n",
        "def normalize(values):\n",
        "    min_val = min(values)\n",
        "    max_value = max(values)\n",
        "    return [(x - min_val) / (max_value - min_val) for x in values]\n"
      ]
    },
    {
      "cell_type": "code",
      "source": [
        "# Normalize the values in the data\n",
        "data['size'] = normalize(data['size'])\n",
        "data['price'] = normalize(data['price'])\n",
        "\n"
      ],
      "metadata": {
        "id": "8mpOZQGaVSCh"
      },
      "execution_count": 3,
      "outputs": []
    },
    {
      "cell_type": "code",
      "source": [
        "# now lets begin by assigning the data to bias and weights\n",
        "m = 0\n",
        "b = 0\n",
        "learning_rate = 0.01\n",
        "epochs = 1000\n"
      ],
      "metadata": {
        "id": "A6Gux6uXVVq_"
      },
      "execution_count": 4,
      "outputs": []
    },
    {
      "cell_type": "code",
      "source": [
        "# create the cost function of our model\n",
        "def cost(m, b, data):\n",
        "    total_cost = 0\n",
        "    N = len(data['size'])\n",
        "\n",
        "    for i in range(N):\n",
        "        x = data['size'][i]\n",
        "        y = data['price'][i]\n",
        "        total_cost += (y - (m * x + b)) ** 2\n",
        "\n",
        "    return total_cost / N\n"
      ],
      "metadata": {
        "id": "RSQl-bafVX_1"
      },
      "execution_count": 5,
      "outputs": []
    },
    {
      "cell_type": "code",
      "source": [
        "\n",
        "# create the gradient descent function\n",
        "def gradient_descent(m, b, data, learning_rate):\n",
        "    N = len(data['size'])\n",
        "    m_gradient = 0\n",
        "    b_gradient = 0\n",
        "\n",
        "    for i in range(N):\n",
        "        x = data['size'][i]\n",
        "        y = data['price'][i]\n",
        "        m_gradient += (-2/N) * x * (y - (m * x + b))\n",
        "        b_gradient += (-2/N) * (y - (m * x + b))\n",
        "\n",
        "    m = m - learning_rate * m_gradient\n",
        "    b = b - learning_rate * b_gradient\n",
        "\n",
        "    return m, b\n"
      ],
      "metadata": {
        "id": "vImimYr9VaMO"
      },
      "execution_count": 10,
      "outputs": []
    },
    {
      "cell_type": "code",
      "source": [
        "# Train the data to see the values at work\n",
        "for epoch in range(epochs):\n",
        "    m,b = gradient_descent(m, b, data, learning_rate)\n",
        "    if epoch % 100 == 0:\n",
        "        print(\"Epoch: {}, Cost: {}\".format(epoch, cost(m, b, data)))\n",
        "        print(f\" Weight(M): {m}, Bias(b): {b}\")\n",
        "\n"
      ],
      "metadata": {
        "colab": {
          "base_uri": "https://localhost:8080/"
        },
        "id": "vJLQO5_xVcNm",
        "outputId": "25d03ce0-3bcf-46c2-efb0-f06b454a906d"
      },
      "execution_count": 11,
      "outputs": [
        {
          "output_type": "stream",
          "name": "stdout",
          "text": [
            "Epoch: 0, Cost: 0.35163538335961947\n",
            " Weight(M): 0.006971507930245404, Bias(b): 0.009491107078039927\n",
            "Epoch: 100, Cost: 0.06081005443069225\n",
            " Weight(M): 0.35456869811300923, Bias(b): 0.30838261000730677\n",
            "Epoch: 200, Cost: 0.038771280714894676\n",
            " Weight(M): 0.49731651031095986, Bias(b): 0.2760588228605351\n",
            "Epoch: 300, Cost: 0.025589313318569822\n",
            " Weight(M): 0.6009984992739216, Bias(b): 0.22715210323145954\n",
            "Epoch: 400, Cost: 0.01701589309398188\n",
            " Weight(M): 0.6836949044471072, Bias(b): 0.18578655596393287\n",
            "Epoch: 500, Cost: 0.011434602299473611\n",
            " Weight(M): 0.7503383764090984, Bias(b): 0.15225177347735594\n",
            "Epoch: 600, Cost: 0.007801149324805877\n",
            " Weight(M): 0.8041029373728148, Bias(b): 0.12518098273174758\n",
            "Epoch: 700, Cost: 0.0054357499178495725\n",
            " Weight(M): 0.8474822822997703, Bias(b): 0.10333782421006127\n",
            "Epoch: 800, Cost: 0.003895860892214417\n",
            " Weight(M): 0.8824828333450835, Bias(b): 0.08571359281839684\n",
            "Epoch: 900, Cost: 0.0028933840148096515\n",
            " Weight(M): 0.9107230024047543, Bias(b): 0.07149348491234149\n"
          ]
        }
      ]
    },
    {
      "cell_type": "code",
      "source": [
        "\n",
        "# Make predictions\n",
        "def predict(size, m, b):\n",
        "    return m * size + b\n",
        ""
      ],
      "metadata": {
        "id": "R6Fc-nrEWF0d"
      },
      "execution_count": 13,
      "outputs": []
    },
    {
      "cell_type": "code",
      "source": [
        "\n",
        "# Predicting price for a normalized house size (for demonstration purposes)\n",
        "normalized_size = (1000 - 650) / (1800 - 650)  # Assuming a house size of 1000 sq ft\n",
        "predicted_price = predict(m, b, normalized_size)\n",
        "print(f\"Predicted normalized price for house size of 1000 sq ft: {predicted_price}\")"
      ],
      "metadata": {
        "colab": {
          "base_uri": "https://localhost:8080/"
        },
        "id": "BQBCrejNWHX9",
        "outputId": "4b967efb-d147-472f-88a2-0923ae4c1373"
      },
      "execution_count": 15,
      "outputs": [
        {
          "output_type": "stream",
          "name": "stdout",
          "text": [
            "Predicted normalized price for house size of 1000 sq ft: 0.36046084064981326\n"
          ]
        }
      ]
    },
    {
      "cell_type": "code",
      "source": [],
      "metadata": {
        "id": "yqdiBuMxWJi6"
      },
      "execution_count": null,
      "outputs": []
    }
  ]
}